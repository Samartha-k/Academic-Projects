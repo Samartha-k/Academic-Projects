{
 "cells": [
  {
   "cell_type": "code",
   "execution_count": 6,
   "id": "701f3e09-61d5-4601-b406-9d52b4b24c2c",
   "metadata": {
    "scrolled": true
   },
   "outputs": [
    {
     "name": "stdout",
     "output_type": "stream",
     "text": [
      "Collecting scikit-image\n",
      "  Downloading scikit_image-0.24.0-cp310-cp310-win_amd64.whl.metadata (14 kB)\n",
      "Requirement already satisfied: numpy>=1.23 in c:\\users\\samar\\pycharmprojects\\p1\\venv\\lib\\site-packages (from scikit-image) (1.26.4)\n",
      "Requirement already satisfied: scipy>=1.9 in c:\\users\\samar\\pycharmprojects\\p1\\venv\\lib\\site-packages (from scikit-image) (1.14.0)\n",
      "Collecting networkx>=2.8 (from scikit-image)\n",
      "  Downloading networkx-3.3-py3-none-any.whl.metadata (5.1 kB)\n",
      "Requirement already satisfied: pillow>=9.1 in c:\\users\\samar\\pycharmprojects\\p1\\venv\\lib\\site-packages (from scikit-image) (10.4.0)\n",
      "Collecting imageio>=2.33 (from scikit-image)\n",
      "  Downloading imageio-2.34.2-py3-none-any.whl.metadata (4.9 kB)\n",
      "Collecting tifffile>=2022.8.12 (from scikit-image)\n",
      "  Downloading tifffile-2024.7.24-py3-none-any.whl.metadata (31 kB)\n",
      "Requirement already satisfied: packaging>=21 in c:\\users\\samar\\pycharmprojects\\p1\\venv\\lib\\site-packages (from scikit-image) (24.0)\n",
      "Collecting lazy-loader>=0.4 (from scikit-image)\n",
      "  Downloading lazy_loader-0.4-py3-none-any.whl.metadata (7.6 kB)\n",
      "Downloading scikit_image-0.24.0-cp310-cp310-win_amd64.whl (12.9 MB)\n",
      "   ---------------------------------------- 0.0/12.9 MB ? eta -:--:--\n",
      "   -- ------------------------------------- 1.0/12.9 MB 20.7 MB/s eta 0:00:01\n",
      "   --------- ------------------------------ 2.9/12.9 MB 31.3 MB/s eta 0:00:01\n",
      "   ------------ --------------------------- 4.0/12.9 MB 36.5 MB/s eta 0:00:01\n",
      "   -------------------- ------------------- 6.7/12.9 MB 35.9 MB/s eta 0:00:01\n",
      "   ---------------------------- ----------- 9.2/12.9 MB 39.3 MB/s eta 0:00:01\n",
      "   ------------------------------------ --- 11.7/12.9 MB 46.7 MB/s eta 0:00:01\n",
      "   ---------------------------------------  12.9/12.9 MB 46.7 MB/s eta 0:00:01\n",
      "   ---------------------------------------- 12.9/12.9 MB 40.9 MB/s eta 0:00:00\n",
      "Downloading imageio-2.34.2-py3-none-any.whl (313 kB)\n",
      "   ---------------------------------------- 0.0/313.5 kB ? eta -:--:--\n",
      "   --------------------------------------- 313.5/313.5 kB 19.0 MB/s eta 0:00:00\n",
      "Downloading lazy_loader-0.4-py3-none-any.whl (12 kB)\n",
      "Downloading networkx-3.3-py3-none-any.whl (1.7 MB)\n",
      "   ---------------------------------------- 0.0/1.7 MB ? eta -:--:--\n",
      "   ---------------------------------------- 1.7/1.7 MB 36.0 MB/s eta 0:00:00\n",
      "Downloading tifffile-2024.7.24-py3-none-any.whl (226 kB)\n",
      "   ---------------------------------------- 0.0/226.2 kB ? eta -:--:--\n",
      "   ---------------------------------------- 226.2/226.2 kB ? eta 0:00:00\n",
      "Installing collected packages: tifffile, networkx, lazy-loader, imageio, scikit-image\n",
      "Successfully installed imageio-2.34.2 lazy-loader-0.4 networkx-3.3 scikit-image-0.24.0 tifffile-2024.7.24\n"
     ]
    }
   ],
   "source": [
    "!pip install scikit-image"
   ]
  },
  {
   "cell_type": "code",
   "execution_count": 9,
   "id": "b1213efc-0a59-401c-8964-c3a8c8a6971e",
   "metadata": {},
   "outputs": [],
   "source": [
    "import cv2\n",
    "import numpy as np\n",
    "\n",
    "# orginal image\n",
    "img = cv2.imread(r\"C:\\Users\\samar\\Desktop\\Samartha_K.jpeg\",0)\n",
    "img = img/255\n",
    "\n",
    "cv2.imshow('original image', img)\n",
    "cv2.waitKey(0)\n",
    "cv2.destroyAllWindows()\n",
    "\n",
    "# blank image\n",
    "x,y = img.shape\n",
    "g = np.zeros((x,y), dtype=np.float32)\n",
    "\n",
    "# salt and pepper amount\n",
    "pepper = 0.1\n",
    "salt = 0.95\n",
    "\n",
    "# create salt and peper noise image    \n",
    "for i in range(x):\n",
    "    for j in range(y):\n",
    "        rdn = np.random.random()\n",
    "        if rdn < pepper:\n",
    "            g[i][j] = 0\n",
    "        elif rdn > salt:\n",
    "            g[i][j] = 1\n",
    "        else:\n",
    "            g[i][j] = img[i][j]\n",
    "\n",
    "cv2.imshow('image with noise', g)\n",
    "cv2.waitKey(0)\n",
    "cv2.destroyAllWindows()"
   ]
  },
  {
   "cell_type": "code",
   "execution_count": null,
   "id": "e8675a51-94fa-4b87-9092-b49fff6446dd",
   "metadata": {},
   "outputs": [],
   "source": []
  }
 ],
 "metadata": {
  "kernelspec": {
   "display_name": "Python 3 (ipykernel)",
   "language": "python",
   "name": "python3"
  },
  "language_info": {
   "codemirror_mode": {
    "name": "ipython",
    "version": 3
   },
   "file_extension": ".py",
   "mimetype": "text/x-python",
   "name": "python",
   "nbconvert_exporter": "python",
   "pygments_lexer": "ipython3",
   "version": "3.10.4"
  }
 },
 "nbformat": 4,
 "nbformat_minor": 5
}

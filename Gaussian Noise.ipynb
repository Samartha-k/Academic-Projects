{
 "cells": [
  {
   "cell_type": "code",
   "execution_count": 7,
   "id": "f41444d7-d07b-480d-8769-698f79582530",
   "metadata": {
    "collapsed": true,
    "jupyter": {
     "outputs_hidden": true
    }
   },
   "outputs": [
    {
     "name": "stdout",
     "output_type": "stream",
     "text": [
      "Requirement already satisfied: scipy in c:\\users\\samar\\pycharmprojects\\p1\\venv\\lib\\site-packages (1.14.0)\n",
      "Requirement already satisfied: numpy<2.3,>=1.23.5 in c:\\users\\samar\\pycharmprojects\\p1\\venv\\lib\\site-packages (from scipy) (1.26.4)\n"
     ]
    }
   ],
   "source": [
    "!pip install scipy"
   ]
  },
  {
   "cell_type": "code",
   "execution_count": 9,
   "id": "5d7ec976-4695-43e5-89a0-96861040fc64",
   "metadata": {
    "collapsed": true,
    "jupyter": {
     "outputs_hidden": true
    }
   },
   "outputs": [
    {
     "name": "stdout",
     "output_type": "stream",
     "text": [
      "Collecting matplotlib\n",
      "  Downloading matplotlib-3.9.1-cp310-cp310-win_amd64.whl.metadata (11 kB)\n",
      "Collecting contourpy>=1.0.1 (from matplotlib)\n",
      "  Downloading contourpy-1.2.1-cp310-cp310-win_amd64.whl.metadata (5.8 kB)\n",
      "Collecting cycler>=0.10 (from matplotlib)\n",
      "  Downloading cycler-0.12.1-py3-none-any.whl.metadata (3.8 kB)\n",
      "Collecting fonttools>=4.22.0 (from matplotlib)\n",
      "  Downloading fonttools-4.53.1-cp310-cp310-win_amd64.whl.metadata (165 kB)\n",
      "     ---------------------------------------- 0.0/165.9 kB ? eta -:--:--\n",
      "     -------------------------------------- 165.9/165.9 kB 9.7 MB/s eta 0:00:00\n",
      "Collecting kiwisolver>=1.3.1 (from matplotlib)\n",
      "  Downloading kiwisolver-1.4.5-cp310-cp310-win_amd64.whl.metadata (6.5 kB)\n",
      "Requirement already satisfied: numpy>=1.23 in c:\\users\\samar\\pycharmprojects\\p1\\venv\\lib\\site-packages (from matplotlib) (1.26.4)\n",
      "Requirement already satisfied: packaging>=20.0 in c:\\users\\samar\\pycharmprojects\\p1\\venv\\lib\\site-packages (from matplotlib) (24.0)\n",
      "Collecting pillow>=8 (from matplotlib)\n",
      "  Downloading pillow-10.4.0-cp310-cp310-win_amd64.whl.metadata (9.3 kB)\n",
      "Collecting pyparsing>=2.3.1 (from matplotlib)\n",
      "  Downloading pyparsing-3.1.2-py3-none-any.whl.metadata (5.1 kB)\n",
      "Requirement already satisfied: python-dateutil>=2.7 in c:\\users\\samar\\pycharmprojects\\p1\\venv\\lib\\site-packages (from matplotlib) (2.9.0.post0)\n",
      "Requirement already satisfied: six>=1.5 in c:\\users\\samar\\pycharmprojects\\p1\\venv\\lib\\site-packages (from python-dateutil>=2.7->matplotlib) (1.16.0)\n",
      "Downloading matplotlib-3.9.1-cp310-cp310-win_amd64.whl (8.0 MB)\n",
      "   ---------------------------------------- 0.0/8.0 MB ? eta -:--:--\n",
      "   --- ------------------------------------ 0.6/8.0 MB 20.5 MB/s eta 0:00:01\n",
      "   ------------- -------------------------- 2.7/8.0 MB 34.7 MB/s eta 0:00:01\n",
      "   ------------------- -------------------- 4.0/8.0 MB 36.2 MB/s eta 0:00:01\n",
      "   ------------------------------------- -- 7.4/8.0 MB 43.0 MB/s eta 0:00:01\n",
      "   ---------------------------------------  8.0/8.0 MB 39.1 MB/s eta 0:00:01\n",
      "   ---------------------------------------- 8.0/8.0 MB 36.3 MB/s eta 0:00:00\n",
      "Downloading contourpy-1.2.1-cp310-cp310-win_amd64.whl (187 kB)\n",
      "   ---------------------------------------- 0.0/187.5 kB ? eta -:--:--\n",
      "   --------------------------------------- 187.5/187.5 kB 11.1 MB/s eta 0:00:00\n",
      "Downloading cycler-0.12.1-py3-none-any.whl (8.3 kB)\n",
      "Downloading fonttools-4.53.1-cp310-cp310-win_amd64.whl (2.2 MB)\n",
      "   ---------------------------------------- 0.0/2.2 MB ? eta -:--:--\n",
      "   -------------- ------------------------- 0.8/2.2 MB 51.2 MB/s eta 0:00:01\n",
      "   ------------------------------------ --- 2.0/2.2 MB 25.6 MB/s eta 0:00:01\n",
      "   ---------------------------------------- 2.2/2.2 MB 23.3 MB/s eta 0:00:00\n",
      "Downloading kiwisolver-1.4.5-cp310-cp310-win_amd64.whl (56 kB)\n",
      "   ---------------------------------------- 0.0/56.1 kB ? eta -:--:--\n",
      "   ---------------------------------------- 56.1/56.1 kB ? eta 0:00:00\n",
      "Downloading pillow-10.4.0-cp310-cp310-win_amd64.whl (2.6 MB)\n",
      "   ---------------------------------------- 0.0/2.6 MB ? eta -:--:--\n",
      "   -------------- ------------------------- 1.0/2.6 MB 20.0 MB/s eta 0:00:01\n",
      "   -------------------------------------- - 2.4/2.6 MB 25.8 MB/s eta 0:00:01\n",
      "   ---------------------------------------- 2.6/2.6 MB 27.1 MB/s eta 0:00:00\n",
      "Downloading pyparsing-3.1.2-py3-none-any.whl (103 kB)\n",
      "   ---------------------------------------- 0.0/103.2 kB ? eta -:--:--\n",
      "   ---------------------------------------- 103.2/103.2 kB ? eta 0:00:00\n",
      "Installing collected packages: pyparsing, pillow, kiwisolver, fonttools, cycler, contourpy, matplotlib\n",
      "Successfully installed contourpy-1.2.1 cycler-0.12.1 fonttools-4.53.1 kiwisolver-1.4.5 matplotlib-3.9.1 pillow-10.4.0 pyparsing-3.1.2\n"
     ]
    }
   ],
   "source": [
    "!pip install matplotlib"
   ]
  },
  {
   "cell_type": "code",
   "execution_count": 3,
   "id": "9fd6df08-03ee-43f8-97ef-980998c03af6",
   "metadata": {
    "collapsed": true,
    "jupyter": {
     "outputs_hidden": true
    }
   },
   "outputs": [
    {
     "name": "stdout",
     "output_type": "stream",
     "text": [
      "Collecting opencv-python\n",
      "  Downloading opencv_python-4.10.0.84-cp37-abi3-win_amd64.whl.metadata (20 kB)\n",
      "Requirement already satisfied: numpy>=1.21.2 in c:\\users\\samar\\pycharmprojects\\p1\\venv\\lib\\site-packages (from opencv-python) (1.26.4)\n",
      "Downloading opencv_python-4.10.0.84-cp37-abi3-win_amd64.whl (38.8 MB)\n",
      "   ---------------------------------------- 0.0/38.8 MB ? eta -:--:--\n",
      "   ---------------------------------------- 0.3/38.8 MB 5.7 MB/s eta 0:00:07\n",
      "    --------------------------------------- 0.8/38.8 MB 8.5 MB/s eta 0:00:05\n",
      "   - -------------------------------------- 1.8/38.8 MB 12.6 MB/s eta 0:00:03\n",
      "   -- ------------------------------------- 2.3/38.8 MB 13.3 MB/s eta 0:00:03\n",
      "   --- ------------------------------------ 3.1/38.8 MB 13.3 MB/s eta 0:00:03\n",
      "   ---- ----------------------------------- 4.1/38.8 MB 14.6 MB/s eta 0:00:03\n",
      "   ----- ---------------------------------- 5.2/38.8 MB 15.7 MB/s eta 0:00:03\n",
      "   ------ --------------------------------- 6.6/38.8 MB 17.6 MB/s eta 0:00:02\n",
      "   ------- -------------------------------- 7.6/38.8 MB 18.0 MB/s eta 0:00:02\n",
      "   --------- ------------------------------ 8.7/38.8 MB 19.3 MB/s eta 0:00:02\n",
      "   ---------- ----------------------------- 10.1/38.8 MB 19.6 MB/s eta 0:00:02\n",
      "   ----------- ---------------------------- 11.6/38.8 MB 23.4 MB/s eta 0:00:02\n",
      "   ------------- -------------------------- 13.0/38.8 MB 25.1 MB/s eta 0:00:02\n",
      "   -------------- ------------------------- 14.2/38.8 MB 27.3 MB/s eta 0:00:01\n",
      "   ---------------- ----------------------- 15.8/38.8 MB 28.4 MB/s eta 0:00:01\n",
      "   ------------------ --------------------- 17.7/38.8 MB 32.7 MB/s eta 0:00:01\n",
      "   ------------------- -------------------- 19.1/38.8 MB 32.7 MB/s eta 0:00:01\n",
      "   --------------------- ------------------ 20.8/38.8 MB 32.8 MB/s eta 0:00:01\n",
      "   ----------------------- ---------------- 22.7/38.8 MB 34.4 MB/s eta 0:00:01\n",
      "   ------------------------- -------------- 24.4/38.8 MB 36.4 MB/s eta 0:00:01\n",
      "   -------------------------- ------------- 26.1/38.8 MB 38.5 MB/s eta 0:00:01\n",
      "   ----------------------------- ---------- 28.2/38.8 MB 38.5 MB/s eta 0:00:01\n",
      "   ------------------------------ --------- 29.3/38.8 MB 38.6 MB/s eta 0:00:01\n",
      "   -------------------------------- ------- 31.4/38.8 MB 38.5 MB/s eta 0:00:01\n",
      "   --------------------------------- ------ 32.9/38.8 MB 36.3 MB/s eta 0:00:01\n",
      "   ----------------------------------- ---- 34.2/38.8 MB 36.4 MB/s eta 0:00:01\n",
      "   ------------------------------------ --- 35.9/38.8 MB 34.4 MB/s eta 0:00:01\n",
      "   -------------------------------------- - 37.1/38.8 MB 32.8 MB/s eta 0:00:01\n",
      "   ---------------------------------------  38.6/38.8 MB 31.2 MB/s eta 0:00:01\n",
      "   ---------------------------------------  38.8/38.8 MB 32.8 MB/s eta 0:00:01\n",
      "   ---------------------------------------- 38.8/38.8 MB 27.3 MB/s eta 0:00:00\n",
      "Installing collected packages: opencv-python\n",
      "Successfully installed opencv-python-4.10.0.84\n"
     ]
    }
   ],
   "source": [
    "!pip install opencv-python"
   ]
  },
  {
   "cell_type": "code",
   "execution_count": 4,
   "id": "d15052b2-9df0-4c27-9521-8d7b53e66b92",
   "metadata": {
    "scrolled": true
   },
   "outputs": [
    {
     "data": {
      "image/png": "[encoded data removed]",
      "text/plain": [
       "<Figure size 640x480 with 1 Axes>"
      ]
     },
     "metadata": {},
     "output_type": "display_data"
    }
   ],
   "source": [
    "import cv2\n",
    "import numpy as np\n",
    "from scipy.stats import gaussian_kde\n",
    "import matplotlib.pyplot as plt\n",
    "\n",
    "# original image\n",
    "f = cv2.imread(r\"C:\\Users\\samar\\Desktop\\Samartha_K.jpeg\", 0)\n",
    "f = f/255\n",
    "\n",
    "cv2.imshow('original image', f)\n",
    "cv2.waitKey(0)\n",
    "cv2.destroyAllWindows()\n",
    "\n",
    "# create gaussian noise\n",
    "x, y = f.shape\n",
    "mean = 0\n",
    "var = 0.01\n",
    "sigma = np.sqrt(var)\n",
    "n = np.random.normal(loc=mean, scale=sigma, size=(x,y))\n",
    "\n",
    "cv2.imshow('Gaussian noise', n)\n",
    "cv2.waitKey(0)\n",
    "cv2.destroyAllWindows()\n",
    "\n",
    "# display the probability density function (pdf)\n",
    "kde = gaussian_kde(n.reshape(int(x*y)))\n",
    "dist_space = np.linspace(np.min(n), np.max(n), 100)\n",
    "plt.plot(dist_space, kde(dist_space))\n",
    "plt.xlabel('Noise pixel value'); plt.ylabel('Frequency')\n",
    "plt.show()\n",
    "\n",
    "# add a gaussian noise\n",
    "g = f + n\n",
    "\n",
    "cv2.imshow('Corrupted Image', g)\n",
    "cv2.waitKey(0)\n",
    "cv2.destroyAllWindows()\n",
    "\n",
    "# display all\n",
    "cv2.imshow('original image', f)\n",
    "cv2.imshow('Gaussian noise', n)\n",
    "cv2.imshow('Corrupted Image', g)\n",
    "\n",
    "cv2.waitKey(0)\n",
    "cv2.destroyAllWindows()"
   ]
  },
  {
   "cell_type": "code",
   "execution_count": null,
   "id": "9f25a921-f88f-455b-9c8e-85250293e40f",
   "metadata": {},
   "outputs": [],
   "source": []
  }
 ],
 "metadata": {
  "kernelspec": {
   "display_name": "Python 3 (ipykernel)",
   "language": "python",
   "name": "python3"
  },
  "language_info": {
   "codemirror_mode": {
    "name": "ipython",
    "version": 3
   },
   "file_extension": ".py",
   "mimetype": "text/x-python",
   "name": "python",
   "nbconvert_exporter": "python",
   "pygments_lexer": "ipython3",
   "version": "3.10.4"
  }
 },
 "nbformat": 4,
 "nbformat_minor": 5
}
